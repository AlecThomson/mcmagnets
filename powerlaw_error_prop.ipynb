{
 "cells": [
  {
   "cell_type": "code",
   "execution_count": null,
   "metadata": {},
   "outputs": [],
   "source": [
    "%matplotlib inline\n",
    "import numpy as np\n",
    "import matplotlib.pyplot as plt\n",
    "from scipy import fftpack\n",
    "import radialProfile\n",
    "from matplotlib.colors import LogNorm\n",
    "from tqdm import tqdm_notebook, tnrange, tqdm\n",
    "from powernoise import powernoise # Stolen from https://gist.github.com/j-faria/7961488\n",
    "from astropy.modeling import models, fitting"
   ]
  },
  {
   "cell_type": "markdown",
   "metadata": {},
   "source": [
    "First, let's generate a mock image. Here I'll use Power-law correlated noise. You could use Gaussian noise like\n",
    "```python\n",
    "#Generate mock-data - Gaussian!\n",
    "xsize = 100\n",
    "ysize = 100\n",
    "image = np.random.normal(size=[ysize, xsize])\n",
    "```"
   ]
  },
  {
   "cell_type": "code",
   "execution_count": null,
   "metadata": {},
   "outputs": [],
   "source": [
    "# Generate mock-data - Power spectrum!\n",
    "xsize = 100\n",
    "ysize = 100\n",
    "a = -5/3\n",
    "kolmo = powernoise(5/3, ysize*xsize, normalize=True)\n",
    "image = np.reshape(kolmo, [ysize, xsize])"
   ]
  },
  {
   "cell_type": "markdown",
   "metadata": {},
   "source": [
    "Let's have a look at the image"
   ]
  },
  {
   "cell_type": "code",
   "execution_count": null,
   "metadata": {},
   "outputs": [],
   "source": [
    "plt.figure()\n",
    "plt.pcolormesh(image)\n",
    "plt.colorbar()\n",
    "ax = plt.gca()\n",
    "ax.set_aspect('equal')\n",
    "plt.xlabel('x')\n",
    "plt.ylabel('y')"
   ]
  },
  {
   "cell_type": "markdown",
   "metadata": {},
   "source": [
    "Now we'll take the Fourier transform of the image using `scipy`. We can also get the spatial frequencies from `fftfreq`\n",
    "\n",
    "We'll also shift the image and frequencies with `fftshift` such that the frequency of '0' is at the centre of the image.\n",
    "\n",
    "From the complex Fourier transformed image, we'll compute the power and the phase.\n",
    "\n",
    "To get the power spectrum, we'll take an average in azimuth from the centre of the image. We'll get the same information for the spatial frequencies."
   ]
  },
  {
   "cell_type": "code",
   "execution_count": null,
   "metadata": {},
   "outputs": [],
   "source": [
    "# Take the fourier transform of the image.\n",
    "imag_fft = fftpack.fft2(image)\n",
    " \n",
    "# Now shift the quadrants around so that low spatial frequencies are in\n",
    "# the center of the 2D fourier transformed image.\n",
    "imag_fft_s = fftpack.fftshift( imag_fft )\n",
    "\n",
    "# Calcudate the spatial frequencies\n",
    "x_freq = fftpack.fftshift(fftpack.fftfreq(xsize, d=1))\n",
    "y_freq = fftpack.fftshift(fftpack.fftfreq(ysize, d=1))\n",
    "\n",
    "X_freq, Y_freq = np.meshgrid(x_freq, y_freq)\n",
    "R_freq = np.sqrt(X_freq**2 + Y_freq**2)\n",
    "freq_1d = radialProfile.azimuthalAverage(R_freq)\n",
    " \n",
    "# Calculate a 2D power spectrum\n",
    "power_2d = np.abs( imag_fft_s )**2\n",
    "phase_2d = np.angle( imag_fft_s )\n",
    " \n",
    "# Calculate the azimuthally averaged 1D power spectrum\n",
    "power_1d = radialProfile.azimuthalAverage(power_2d)"
   ]
  },
  {
   "cell_type": "code",
   "execution_count": null,
   "metadata": {},
   "outputs": [],
   "source": [
    "plt.figure()\n",
    "plt.pcolormesh(x_freq, y_freq, power_2d, norm=LogNorm())\n",
    "plt.colorbar()\n",
    "ax = plt.gca()\n",
    "ax.set_aspect('equal')\n",
    "plt.xlabel(\"$k_x$\")\n",
    "plt.ylabel(\"$k_y$\")\n",
    "plt.title(\"2D power spectrum\")\n",
    "\n",
    "plt.figure()\n",
    "plt.pcolormesh(x_freq, y_freq, phase_2d, cmap=plt.cm.twilight)\n",
    "plt.colorbar()\n",
    "ax = plt.gca()\n",
    "ax.set_aspect('equal')\n",
    "plt.xlabel(\"$k_x$\")\n",
    "plt.ylabel(\"$k_y$\")\n",
    "plt.title(\"2D phase\")"
   ]
  },
  {
   "cell_type": "code",
   "execution_count": null,
   "metadata": {},
   "outputs": [],
   "source": [
    "plt.figure()\n",
    "plt.plot(freq_1d, power_1d,'o')\n",
    "plt.xscale('log')\n",
    "plt.yscale('log')\n",
    "plt.xlabel('Spatial Frequency - $k$')\n",
    "plt.ylabel('Power Spectrum')\n",
    "plt.grid(which='both')\n",
    "plt.title(\"1D power spectrum\")"
   ]
  },
  {
   "cell_type": "markdown",
   "metadata": {},
   "source": [
    "Now we'll fold in uncertainty in each pixel of the image. We'll assumue Gaussian distribution on the error, with the same level of error across the image.\n",
    "\n",
    "For each pixel we'll sample a Gaussian distribution, taking the mean to be the value from the image, and the standard deviation from the error map with 1000 samples.\n",
    "\n",
    "In doing so we'll create a 3D arrays, `image_dist`, containing the sampling of values for each pixel."
   ]
  },
  {
   "cell_type": "code",
   "execution_count": null,
   "metadata": {},
   "outputs": [],
   "source": [
    "# Now lets sample a Gaussian distribution for each pixel\n",
    "samples = 1000\n",
    "error_val = 1\n",
    "# I'll just use 1.0 as the standard deviation\n",
    "error  = np.ones_like(image) * error_val\n",
    "samples = 1000\n",
    "image_dist = np.zeros([samples,ysize,xsize])\n",
    "\n",
    "# I'm currently using nested for loops...which is bad...\n",
    "## There should be a way to do this in NumPy, but I'm feeling lazy\n",
    "for i in tnrange(ysize):\n",
    "    for j in range(xsize):\n",
    "        image_dist[:,i,j] = np.random.normal(loc=image[i,j], scale=error[i,j], size=samples)"
   ]
  },
  {
   "cell_type": "code",
   "execution_count": null,
   "metadata": {},
   "outputs": [],
   "source": [
    "# Lets look at the histogram of the first pixel\n",
    "plt.figure()\n",
    "for dist in image_dist[:,0,::25].T:\n",
    "    plt.hist(dist.ravel(), bins=25, alpha=0.5, histtype='stepfilled')"
   ]
  },
  {
   "cell_type": "markdown",
   "metadata": {},
   "source": [
    "Now, just like above, we'll take the Fourier transform of the distribution array."
   ]
  },
  {
   "cell_type": "code",
   "execution_count": null,
   "metadata": {},
   "outputs": [],
   "source": [
    "# Take the fourier transform of the image.\n",
    "dist_fft = fftpack.fft2(image_dist)\n",
    "\n",
    "# Now shift the quadrants around so that low spatial frequencies are in\n",
    "# the center of the 2D fourier transformed image.\n",
    "dist_fft_s = fftpack.fftshift(dist_fft)\n",
    "# Calculate a 2D power spectrum\n",
    "power_2d_dist = np.abs(dist_fft_s)**2"
   ]
  },
  {
   "cell_type": "markdown",
   "metadata": {},
   "source": [
    "We can now iterate through each sample and compute the 1D power spectrum"
   ]
  },
  {
   "cell_type": "code",
   "execution_count": null,
   "metadata": {},
   "outputs": [],
   "source": [
    "# Calculate the azimuthally averaged 1D power spectrum\n",
    "## Currently doing this as a loop, but could be fixed in 'radialProfile.py' to use NumPy. This \n",
    "## would be much faster!\n",
    "power_1d_dist = []\n",
    "for sample in tqdm_notebook(power_2d_dist):\n",
    "    power_1d_dist.append(radialProfile.azimuthalAverage(sample))\n",
    "power_1d_dist = np.array(power_1d_dist)"
   ]
  },
  {
   "cell_type": "markdown",
   "metadata": {},
   "source": [
    "Now we have MANY samples! Lets see how they all look!"
   ]
  },
  {
   "cell_type": "code",
   "execution_count": null,
   "metadata": {},
   "outputs": [],
   "source": [
    "\n",
    "plt.figure()\n",
    "for i, d in enumerate(power_1d_dist.T):\n",
    "    plt.plot([freq_1d[i]] * len(d),d, 'o', markersize=1, alpha=1)\n",
    "plt.xscale('log')\n",
    "plt.yscale('log')\n",
    "plt.xlabel('Spatial Frequency - $k$')\n",
    "plt.ylabel('Power Spectrum')\n",
    "plt.grid(which='both')\n",
    "plt.title(\"1D power spectrum\")"
   ]
  },
  {
   "cell_type": "markdown",
   "metadata": {},
   "source": [
    "Now lets use the median and percentiles of these spectra. This gives as an estiamate of the uncertainty in the power spectrum.\n"
   ]
  },
  {
   "cell_type": "code",
   "execution_count": null,
   "metadata": {},
   "outputs": [],
   "source": [
    "power_1d_16, power_1d_med, power_1d_84 = np.nanpercentile(power_1d_dist, (16,50,84), axis=0)\n",
    "power_1d_err_plus = power_1d_84 - power_1d_med\n",
    "power_1d_err_minus = power_1d_med - power_1d_16"
   ]
  },
  {
   "cell_type": "markdown",
   "metadata": {},
   "source": [
    "Lets plot it! First using error bars\n"
   ]
  },
  {
   "cell_type": "code",
   "execution_count": null,
   "metadata": {},
   "outputs": [],
   "source": [
    "plt.figure()\n",
    "plt.errorbar(freq_1d, power_1d_med, \n",
    "            yerr=[power_1d_err_plus, power_1d_err_minus],\n",
    "             fmt='o', ms=5, alpha=1)\n",
    "plt.xscale('log')\n",
    "plt.yscale('log')\n",
    "plt.xlabel('Spatial Frequency - $k$')\n",
    "plt.ylabel('Power Spectrum')\n",
    "plt.grid(which='both')\n",
    "plt.title(\"1D power spectrum\")"
   ]
  },
  {
   "cell_type": "code",
   "execution_count": null,
   "metadata": {},
   "outputs": [],
   "source": [
    "# Lets try with fill_between\n",
    "plt.figure()\n",
    "plt.plot(freq_1d, power_1d_med, 'o', markersize=5)\n",
    "plt.fill_between(freq_1d, power_1d_16, power_1d_84, alpha=0.5)\n",
    "plt.xscale('log')\n",
    "plt.yscale('log')\n",
    "plt.xlabel('Spatial Frequency - $k$')\n",
    "plt.ylabel('Power Spectrum')\n",
    "plt.grid(which='both')\n",
    "plt.title(\"1D power spectrum\")"
   ]
  },
  {
   "cell_type": "code",
   "execution_count": null,
   "metadata": {},
   "outputs": [],
   "source": [
    "plt.figure()\n",
    "plt.errorbar(freq_1d, power_1d_med, \n",
    "            yerr=[power_1d_err_plus, power_1d_err_minus],\n",
    "             fmt='o', ms=5, alpha=1, label=\"With error\")\n",
    "plt.plot(freq_1d, power_1d,'o', label=\"No error\")\n",
    "plt.xscale('log')\n",
    "plt.yscale('log')\n",
    "plt.xlabel('Spatial Frequency - $k$')\n",
    "plt.ylabel('Power Spectrum')\n",
    "plt.grid(which='both')\n",
    "plt.title(\"1D power spectrum\")\n",
    "plt.legend()"
   ]
  },
  {
   "cell_type": "code",
   "execution_count": null,
   "metadata": {},
   "outputs": [],
   "source": []
  }
 ],
 "metadata": {
  "interpreter": {
   "hash": "20d809ec86e111c3d2864aa65d3db8e7fa384fc1384beda5cdcca85df830bf4c"
  },
  "kernelspec": {
   "display_name": "Python 3.9.6 ('base')",
   "language": "python",
   "name": "python3"
  },
  "language_info": {
   "codemirror_mode": {
    "name": "ipython",
    "version": 3
   },
   "file_extension": ".py",
   "mimetype": "text/x-python",
   "name": "python",
   "nbconvert_exporter": "python",
   "pygments_lexer": "ipython3",
   "version": "3.9.6"
  }
 },
 "nbformat": 4,
 "nbformat_minor": 2
}
